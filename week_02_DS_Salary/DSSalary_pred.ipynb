{
 "cells": [
  {
   "cell_type": "markdown",
   "id": "9bf6bf4c",
   "metadata": {},
   "source": [
    "### Predicting Salary - training a linear model to predict salary in datascience based on 2023 data"
   ]
  },
  {
   "cell_type": "code",
   "execution_count": 2,
   "id": "e9542c5b-7a44-48c4-ab85-6a217e6e5bde",
   "metadata": {},
   "outputs": [],
   "source": [
    "import torch, numpy as np, pandas as pd\n",
    "np.set_printoptions(linewidth=100)\n",
    "torch.set_printoptions(linewidth=100, sci_mode=False, edgeitems=7)\n",
    "pd.set_option('display.width', 100)"
   ]
  },
  {
   "cell_type": "code",
   "execution_count": 3,
   "id": "1e952b2c-2c01-4e10-a425-50c9ca3ba41a",
   "metadata": {
    "tags": []
   },
   "outputs": [
    {
     "data": {
      "text/html": [
       "<div>\n",
       "<style scoped>\n",
       "    .dataframe tbody tr th:only-of-type {\n",
       "        vertical-align: middle;\n",
       "    }\n",
       "\n",
       "    .dataframe tbody tr th {\n",
       "        vertical-align: top;\n",
       "    }\n",
       "\n",
       "    .dataframe thead th {\n",
       "        text-align: right;\n",
       "    }\n",
       "</style>\n",
       "<table border=\"1\" class=\"dataframe\">\n",
       "  <thead>\n",
       "    <tr style=\"text-align: right;\">\n",
       "      <th></th>\n",
       "      <th>work_year</th>\n",
       "      <th>experience_level</th>\n",
       "      <th>employment_type</th>\n",
       "      <th>job_title</th>\n",
       "      <th>salary</th>\n",
       "      <th>salary_currency</th>\n",
       "      <th>salary_in_usd</th>\n",
       "      <th>employee_residence</th>\n",
       "      <th>remote_ratio</th>\n",
       "      <th>company_location</th>\n",
       "      <th>company_size</th>\n",
       "    </tr>\n",
       "  </thead>\n",
       "  <tbody>\n",
       "    <tr>\n",
       "      <th>0</th>\n",
       "      <td>2023</td>\n",
       "      <td>SE</td>\n",
       "      <td>FT</td>\n",
       "      <td>Principal Data Scientist</td>\n",
       "      <td>80000</td>\n",
       "      <td>EUR</td>\n",
       "      <td>85847</td>\n",
       "      <td>ES</td>\n",
       "      <td>100</td>\n",
       "      <td>ES</td>\n",
       "      <td>L</td>\n",
       "    </tr>\n",
       "    <tr>\n",
       "      <th>1</th>\n",
       "      <td>2023</td>\n",
       "      <td>MI</td>\n",
       "      <td>CT</td>\n",
       "      <td>ML Engineer</td>\n",
       "      <td>30000</td>\n",
       "      <td>USD</td>\n",
       "      <td>30000</td>\n",
       "      <td>US</td>\n",
       "      <td>100</td>\n",
       "      <td>US</td>\n",
       "      <td>S</td>\n",
       "    </tr>\n",
       "    <tr>\n",
       "      <th>2</th>\n",
       "      <td>2023</td>\n",
       "      <td>MI</td>\n",
       "      <td>CT</td>\n",
       "      <td>ML Engineer</td>\n",
       "      <td>25500</td>\n",
       "      <td>USD</td>\n",
       "      <td>25500</td>\n",
       "      <td>US</td>\n",
       "      <td>100</td>\n",
       "      <td>US</td>\n",
       "      <td>S</td>\n",
       "    </tr>\n",
       "    <tr>\n",
       "      <th>3</th>\n",
       "      <td>2023</td>\n",
       "      <td>SE</td>\n",
       "      <td>FT</td>\n",
       "      <td>Data Scientist</td>\n",
       "      <td>175000</td>\n",
       "      <td>USD</td>\n",
       "      <td>175000</td>\n",
       "      <td>CA</td>\n",
       "      <td>100</td>\n",
       "      <td>CA</td>\n",
       "      <td>M</td>\n",
       "    </tr>\n",
       "    <tr>\n",
       "      <th>4</th>\n",
       "      <td>2023</td>\n",
       "      <td>SE</td>\n",
       "      <td>FT</td>\n",
       "      <td>Data Scientist</td>\n",
       "      <td>120000</td>\n",
       "      <td>USD</td>\n",
       "      <td>120000</td>\n",
       "      <td>CA</td>\n",
       "      <td>100</td>\n",
       "      <td>CA</td>\n",
       "      <td>M</td>\n",
       "    </tr>\n",
       "    <tr>\n",
       "      <th>...</th>\n",
       "      <td>...</td>\n",
       "      <td>...</td>\n",
       "      <td>...</td>\n",
       "      <td>...</td>\n",
       "      <td>...</td>\n",
       "      <td>...</td>\n",
       "      <td>...</td>\n",
       "      <td>...</td>\n",
       "      <td>...</td>\n",
       "      <td>...</td>\n",
       "      <td>...</td>\n",
       "    </tr>\n",
       "    <tr>\n",
       "      <th>3750</th>\n",
       "      <td>2020</td>\n",
       "      <td>SE</td>\n",
       "      <td>FT</td>\n",
       "      <td>Data Scientist</td>\n",
       "      <td>412000</td>\n",
       "      <td>USD</td>\n",
       "      <td>412000</td>\n",
       "      <td>US</td>\n",
       "      <td>100</td>\n",
       "      <td>US</td>\n",
       "      <td>L</td>\n",
       "    </tr>\n",
       "    <tr>\n",
       "      <th>3751</th>\n",
       "      <td>2021</td>\n",
       "      <td>MI</td>\n",
       "      <td>FT</td>\n",
       "      <td>Principal Data Scientist</td>\n",
       "      <td>151000</td>\n",
       "      <td>USD</td>\n",
       "      <td>151000</td>\n",
       "      <td>US</td>\n",
       "      <td>100</td>\n",
       "      <td>US</td>\n",
       "      <td>L</td>\n",
       "    </tr>\n",
       "    <tr>\n",
       "      <th>3752</th>\n",
       "      <td>2020</td>\n",
       "      <td>EN</td>\n",
       "      <td>FT</td>\n",
       "      <td>Data Scientist</td>\n",
       "      <td>105000</td>\n",
       "      <td>USD</td>\n",
       "      <td>105000</td>\n",
       "      <td>US</td>\n",
       "      <td>100</td>\n",
       "      <td>US</td>\n",
       "      <td>S</td>\n",
       "    </tr>\n",
       "    <tr>\n",
       "      <th>3753</th>\n",
       "      <td>2020</td>\n",
       "      <td>EN</td>\n",
       "      <td>CT</td>\n",
       "      <td>Business Data Analyst</td>\n",
       "      <td>100000</td>\n",
       "      <td>USD</td>\n",
       "      <td>100000</td>\n",
       "      <td>US</td>\n",
       "      <td>100</td>\n",
       "      <td>US</td>\n",
       "      <td>L</td>\n",
       "    </tr>\n",
       "    <tr>\n",
       "      <th>3754</th>\n",
       "      <td>2021</td>\n",
       "      <td>SE</td>\n",
       "      <td>FT</td>\n",
       "      <td>Data Science Manager</td>\n",
       "      <td>7000000</td>\n",
       "      <td>INR</td>\n",
       "      <td>94665</td>\n",
       "      <td>IN</td>\n",
       "      <td>50</td>\n",
       "      <td>IN</td>\n",
       "      <td>L</td>\n",
       "    </tr>\n",
       "  </tbody>\n",
       "</table>\n",
       "<p>3755 rows × 11 columns</p>\n",
       "</div>"
      ],
      "text/plain": [
       "      work_year experience_level employment_type                 job_title   salary   \n",
       "0          2023               SE              FT  Principal Data Scientist    80000  \\\n",
       "1          2023               MI              CT               ML Engineer    30000   \n",
       "2          2023               MI              CT               ML Engineer    25500   \n",
       "3          2023               SE              FT            Data Scientist   175000   \n",
       "4          2023               SE              FT            Data Scientist   120000   \n",
       "...         ...              ...             ...                       ...      ...   \n",
       "3750       2020               SE              FT            Data Scientist   412000   \n",
       "3751       2021               MI              FT  Principal Data Scientist   151000   \n",
       "3752       2020               EN              FT            Data Scientist   105000   \n",
       "3753       2020               EN              CT     Business Data Analyst   100000   \n",
       "3754       2021               SE              FT      Data Science Manager  7000000   \n",
       "\n",
       "     salary_currency  salary_in_usd employee_residence  remote_ratio company_location company_size  \n",
       "0                EUR          85847                 ES           100               ES            L  \n",
       "1                USD          30000                 US           100               US            S  \n",
       "2                USD          25500                 US           100               US            S  \n",
       "3                USD         175000                 CA           100               CA            M  \n",
       "4                USD         120000                 CA           100               CA            M  \n",
       "...              ...            ...                ...           ...              ...          ...  \n",
       "3750             USD         412000                 US           100               US            L  \n",
       "3751             USD         151000                 US           100               US            L  \n",
       "3752             USD         105000                 US           100               US            S  \n",
       "3753             USD         100000                 US           100               US            L  \n",
       "3754             INR          94665                 IN            50               IN            L  \n",
       "\n",
       "[3755 rows x 11 columns]"
      ]
     },
     "execution_count": 3,
     "metadata": {},
     "output_type": "execute_result"
    }
   ],
   "source": [
    "# read dataframe\n",
    "df = pd.read_csv('ds_salaries.csv')\n",
    "df"
   ]
  },
  {
   "cell_type": "code",
   "execution_count": 4,
   "id": "3e5e0f2a-70a7-4abd-8447-82590884a479",
   "metadata": {},
   "outputs": [
    {
     "data": {
      "text/plain": [
       "<Axes: >"
      ]
     },
     "execution_count": 4,
     "metadata": {},
     "output_type": "execute_result"
    },
    {
     "data": {
      "image/png": "[encoded data removed]",
      "text/plain": [
       "<Figure size 640x480 with 1 Axes>"
      ]
     },
     "metadata": {},
     "output_type": "display_data"
    }
   ],
   "source": [
    "# look at distribution of salary in the dataset\n",
    "df['salary_in_usd'].hist()"
   ]
  },
  {
   "cell_type": "code",
   "execution_count": 5,
   "id": "7d71dba2",
   "metadata": {},
   "outputs": [
    {
     "data": {
      "text/plain": [
       "['CT', 'FL', 'FT', 'PT']"
      ]
     },
     "execution_count": 5,
     "metadata": {},
     "output_type": "execute_result"
    }
   ],
   "source": [
    "# look at unique employment types\n",
    "pclasses = sorted(df.employment_type.unique())\n",
    "pclasses"
   ]
  },
  {
   "cell_type": "code",
   "execution_count": 6,
   "id": "787ed76b",
   "metadata": {},
   "outputs": [
    {
     "data": {
      "text/html": [
       "<div>\n",
       "<style scoped>\n",
       "    .dataframe tbody tr th:only-of-type {\n",
       "        vertical-align: middle;\n",
       "    }\n",
       "\n",
       "    .dataframe tbody tr th {\n",
       "        vertical-align: top;\n",
       "    }\n",
       "\n",
       "    .dataframe thead th {\n",
       "        text-align: right;\n",
       "    }\n",
       "</style>\n",
       "<table border=\"1\" class=\"dataframe\">\n",
       "  <thead>\n",
       "    <tr style=\"text-align: right;\">\n",
       "      <th></th>\n",
       "      <th>experience_level</th>\n",
       "      <th>employment_type</th>\n",
       "      <th>job_title</th>\n",
       "      <th>salary_currency</th>\n",
       "      <th>employee_residence</th>\n",
       "      <th>company_location</th>\n",
       "      <th>company_size</th>\n",
       "    </tr>\n",
       "  </thead>\n",
       "  <tbody>\n",
       "    <tr>\n",
       "      <th>count</th>\n",
       "      <td>3755</td>\n",
       "      <td>3755</td>\n",
       "      <td>3755</td>\n",
       "      <td>3755</td>\n",
       "      <td>3755</td>\n",
       "      <td>3755</td>\n",
       "      <td>3755</td>\n",
       "    </tr>\n",
       "    <tr>\n",
       "      <th>unique</th>\n",
       "      <td>4</td>\n",
       "      <td>4</td>\n",
       "      <td>93</td>\n",
       "      <td>20</td>\n",
       "      <td>78</td>\n",
       "      <td>72</td>\n",
       "      <td>3</td>\n",
       "    </tr>\n",
       "    <tr>\n",
       "      <th>top</th>\n",
       "      <td>SE</td>\n",
       "      <td>FT</td>\n",
       "      <td>Data Engineer</td>\n",
       "      <td>USD</td>\n",
       "      <td>US</td>\n",
       "      <td>US</td>\n",
       "      <td>M</td>\n",
       "    </tr>\n",
       "    <tr>\n",
       "      <th>freq</th>\n",
       "      <td>2516</td>\n",
       "      <td>3718</td>\n",
       "      <td>1040</td>\n",
       "      <td>3224</td>\n",
       "      <td>3004</td>\n",
       "      <td>3040</td>\n",
       "      <td>3153</td>\n",
       "    </tr>\n",
       "  </tbody>\n",
       "</table>\n",
       "</div>"
      ],
      "text/plain": [
       "       experience_level employment_type      job_title salary_currency employee_residence   \n",
       "count              3755            3755           3755            3755               3755  \\\n",
       "unique                4               4             93              20                 78   \n",
       "top                  SE              FT  Data Engineer             USD                 US   \n",
       "freq               2516            3718           1040            3224               3004   \n",
       "\n",
       "       company_location company_size  \n",
       "count              3755         3755  \n",
       "unique               72            3  \n",
       "top                  US            M  \n",
       "freq               3040         3153  "
      ]
     },
     "execution_count": 6,
     "metadata": {},
     "output_type": "execute_result"
    }
   ],
   "source": [
    "# describe data of the dataframe\n",
    "df.describe(include=[object])"
   ]
  },
  {
   "cell_type": "markdown",
   "id": "99515e98",
   "metadata": {},
   "source": [
    "#### create dummy variables from categorical variables, here focusing on experiences level and employment type\n",
    "- these dummy variables will be used to build the prediction model"
   ]
  },
  {
   "cell_type": "code",
   "execution_count": 7,
   "id": "676af227",
   "metadata": {},
   "outputs": [
    {
     "data": {
      "text/plain": [
       "Index(['work_year', 'job_title', 'salary', 'salary_currency', 'salary_in_usd',\n",
       "       'employee_residence', 'remote_ratio', 'company_location', 'company_size',\n",
       "       'experience_level_EN', 'experience_level_EX', 'experience_level_MI', 'experience_level_SE',\n",
       "       'employment_type_CT', 'employment_type_FL', 'employment_type_FT', 'employment_type_PT'],\n",
       "      dtype='object')"
      ]
     },
     "execution_count": 7,
     "metadata": {},
     "output_type": "execute_result"
    }
   ],
   "source": [
    "df = pd.get_dummies(df, columns=[\"experience_level\",\"employment_type\"], dtype=int)\n",
    "df.columns"
   ]
  },
  {
   "cell_type": "code",
   "execution_count": 8,
   "id": "ea31bf2c",
   "metadata": {},
   "outputs": [
    {
     "data": {
      "text/html": [
       "<div>\n",
       "<style scoped>\n",
       "    .dataframe tbody tr th:only-of-type {\n",
       "        vertical-align: middle;\n",
       "    }\n",
       "\n",
       "    .dataframe tbody tr th {\n",
       "        vertical-align: top;\n",
       "    }\n",
       "\n",
       "    .dataframe thead th {\n",
       "        text-align: right;\n",
       "    }\n",
       "</style>\n",
       "<table border=\"1\" class=\"dataframe\">\n",
       "  <thead>\n",
       "    <tr style=\"text-align: right;\">\n",
       "      <th></th>\n",
       "      <th>experience_level_EN</th>\n",
       "    </tr>\n",
       "  </thead>\n",
       "  <tbody>\n",
       "    <tr>\n",
       "      <th>0</th>\n",
       "      <td>0</td>\n",
       "    </tr>\n",
       "    <tr>\n",
       "      <th>1</th>\n",
       "      <td>0</td>\n",
       "    </tr>\n",
       "    <tr>\n",
       "      <th>2</th>\n",
       "      <td>0</td>\n",
       "    </tr>\n",
       "    <tr>\n",
       "      <th>3</th>\n",
       "      <td>0</td>\n",
       "    </tr>\n",
       "    <tr>\n",
       "      <th>4</th>\n",
       "      <td>0</td>\n",
       "    </tr>\n",
       "  </tbody>\n",
       "</table>\n",
       "</div>"
      ],
      "text/plain": [
       "   experience_level_EN\n",
       "0                    0\n",
       "1                    0\n",
       "2                    0\n",
       "3                    0\n",
       "4                    0"
      ]
     },
     "execution_count": 8,
     "metadata": {},
     "output_type": "execute_result"
    }
   ],
   "source": [
    "added_cols = ['experience_level_EN']\n",
    "df[added_cols].head()"
   ]
  },
  {
   "cell_type": "code",
   "execution_count": 9,
   "id": "b38809bd",
   "metadata": {},
   "outputs": [],
   "source": [
    "from torch import tensor\n",
    "t_dep = tensor(df.salary_in_usd)"
   ]
  },
  {
   "cell_type": "code",
   "execution_count": 10,
   "id": "c7886589",
   "metadata": {},
   "outputs": [],
   "source": [
    "# By converting the salary values to a PyTorch tensor, \n",
    "## you can potentially perform various numerical operations, \n",
    "## computations, or use it as input for a machine learning model in the PyTorch framework."
   ]
  },
  {
   "cell_type": "code",
   "execution_count": 11,
   "id": "fba8b92b",
   "metadata": {},
   "outputs": [
    {
     "data": {
      "text/plain": [
       "tensor([[0., 0., 0., 1., 0., 0., 1., 0.],\n",
       "        [0., 0., 1., 0., 1., 0., 0., 0.],\n",
       "        [0., 0., 1., 0., 1., 0., 0., 0.],\n",
       "        [0., 0., 0., 1., 0., 0., 1., 0.],\n",
       "        [0., 0., 0., 1., 0., 0., 1., 0.],\n",
       "        [0., 0., 0., 1., 0., 0., 1., 0.],\n",
       "        [0., 0., 0., 1., 0., 0., 1., 0.],\n",
       "        ...,\n",
       "        [0., 0., 1., 0., 0., 0., 1., 0.],\n",
       "        [0., 0., 0., 1., 0., 0., 1., 0.],\n",
       "        [0., 0., 0., 1., 0., 0., 1., 0.],\n",
       "        [0., 0., 1., 0., 0., 0., 1., 0.],\n",
       "        [1., 0., 0., 0., 0., 0., 1., 0.],\n",
       "        [1., 0., 0., 0., 1., 0., 0., 0.],\n",
       "        [0., 0., 0., 1., 0., 0., 1., 0.]])"
      ]
     },
     "execution_count": 11,
     "metadata": {},
     "output_type": "execute_result"
    }
   ],
   "source": [
    "indep_cols = ['experience_level_EN', 'experience_level_EX', 'experience_level_MI', 'experience_level_SE',\n",
    "       'employment_type_CT', 'employment_type_FL', 'employment_type_FT', 'employment_type_PT']\n",
    "t_indep = tensor(df[indep_cols].values, dtype=torch.float)\n",
    "t_indep\n",
    "#t_indep is a PyTorch tensor object that holds the values of the selected columns from the DataFrame df. \n",
    "# The tensor allows for efficient numerical computations and can be used as input for various machine learning \n",
    "# models or other mathematical operations within the PyTorch framework."
   ]
  },
  {
   "cell_type": "code",
   "execution_count": 12,
   "id": "2f2085c6",
   "metadata": {},
   "outputs": [
    {
     "data": {
      "text/plain": [
       "torch.Size([3755, 8])"
      ]
     },
     "execution_count": 12,
     "metadata": {},
     "output_type": "execute_result"
    }
   ],
   "source": [
    "t_indep.shape"
   ]
  },
  {
   "cell_type": "code",
   "execution_count": 13,
   "id": "fc88d635",
   "metadata": {},
   "outputs": [
    {
     "data": {
      "text/plain": [
       "tensor([-0.4629,  0.1386,  0.2409, -0.2262, -0.2632, -0.3147,  0.4876,  0.3136])"
      ]
     },
     "execution_count": 13,
     "metadata": {},
     "output_type": "execute_result"
    }
   ],
   "source": [
    "torch.manual_seed(442) # for reproducability \n",
    "\n",
    "n_coeff = t_indep.shape[1] # get numbers of coeffs we need to generate\n",
    "coeffs = torch.rand(n_coeff)-0.5\n",
    "# coeffs = torch.rand(n_coeff)-0.5 generates random numbers between 0 and 1 using torch.rand(n_coeff), \n",
    "# and then subtracts 0.5 from each number. This will produce a tensor named coeffs containing random \n",
    "# coefficients centered around 0. These coefficients can be used for various purposes, such as initializing \n",
    "# weights in a neural network or as coefficients in a mathematical equation.\n",
    "coeffs"
   ]
  },
  {
   "cell_type": "code",
   "execution_count": 14,
   "id": "0a93ee03",
   "metadata": {},
   "outputs": [
    {
     "data": {
      "text/plain": [
       "tensor([[-0.0000,  0.0000,  0.0000, -0.2262, -0.0000, -0.0000,  0.4876,  0.0000],\n",
       "        [-0.0000,  0.0000,  0.2409, -0.0000, -0.2632, -0.0000,  0.0000,  0.0000],\n",
       "        [-0.0000,  0.0000,  0.2409, -0.0000, -0.2632, -0.0000,  0.0000,  0.0000],\n",
       "        [-0.0000,  0.0000,  0.0000, -0.2262, -0.0000, -0.0000,  0.4876,  0.0000],\n",
       "        [-0.0000,  0.0000,  0.0000, -0.2262, -0.0000, -0.0000,  0.4876,  0.0000],\n",
       "        [-0.0000,  0.0000,  0.0000, -0.2262, -0.0000, -0.0000,  0.4876,  0.0000],\n",
       "        [-0.0000,  0.0000,  0.0000, -0.2262, -0.0000, -0.0000,  0.4876,  0.0000],\n",
       "        ...,\n",
       "        [-0.0000,  0.0000,  0.2409, -0.0000, -0.0000, -0.0000,  0.4876,  0.0000],\n",
       "        [-0.0000,  0.0000,  0.0000, -0.2262, -0.0000, -0.0000,  0.4876,  0.0000],\n",
       "        [-0.0000,  0.0000,  0.0000, -0.2262, -0.0000, -0.0000,  0.4876,  0.0000],\n",
       "        [-0.0000,  0.0000,  0.2409, -0.0000, -0.0000, -0.0000,  0.4876,  0.0000],\n",
       "        [-0.4629,  0.0000,  0.0000, -0.0000, -0.0000, -0.0000,  0.4876,  0.0000],\n",
       "        [-0.4629,  0.0000,  0.0000, -0.0000, -0.2632, -0.0000,  0.0000,  0.0000],\n",
       "        [-0.0000,  0.0000,  0.0000, -0.2262, -0.0000, -0.0000,  0.4876,  0.0000]])"
      ]
     },
     "execution_count": 14,
     "metadata": {},
     "output_type": "execute_result"
    }
   ],
   "source": [
    "t_indep*coeffs # apply weighting or scaling to the input data or to introduce random variations."
   ]
  },
  {
   "cell_type": "code",
   "execution_count": 15,
   "id": "7c1128ea",
   "metadata": {},
   "outputs": [],
   "source": [
    "vals,indices = t_indep.max(dim=0)\n",
    "t_indep = t_indep / vals\n",
    "#normalizing the t_indep tensor by dividing each element in the tensor by the maximum \n",
    "# value found in each column. This normalization process scales the values between 0 and 1, \n",
    "# making them relative to the maximum value in each column. It can be useful to ensure that \n",
    "# the values across different columns are on a similar scale or to facilitate convergence during \n",
    "# training in machine learning models. After this normalization step, the updated t_indep \n",
    "# tensor will contain the normalized values.\n"
   ]
  },
  {
   "cell_type": "code",
   "execution_count": 16,
   "id": "4fc68d38",
   "metadata": {},
   "outputs": [],
   "source": [
    "preds = (t_indep*coeffs).sum(axis=1)\n",
    "#generate predictions by performing a weighted sum of the element-wise multiplied values from \n",
    "# t_indep and coeffs. Each row of t_indep is multiplied element-wise with the corresponding \n",
    "# row of coeffs, and the resulting values are summed up to obtain the predictions."
   ]
  },
  {
   "cell_type": "code",
   "execution_count": 17,
   "id": "cd85a0a6",
   "metadata": {},
   "outputs": [
    {
     "data": {
      "text/plain": [
       "tensor([ 0.2615, -0.0223, -0.0223,  0.2615,  0.2615,  0.2615,  0.2615,  0.2615,  0.2615,  0.2615])"
      ]
     },
     "execution_count": 17,
     "metadata": {},
     "output_type": "execute_result"
    }
   ],
   "source": [
    "preds[:10]"
   ]
  },
  {
   "cell_type": "code",
   "execution_count": 18,
   "id": "154f1e1e",
   "metadata": {},
   "outputs": [
    {
     "data": {
      "text/plain": [
       "tensor(137570.0469)"
      ]
     },
     "execution_count": 18,
     "metadata": {},
     "output_type": "execute_result"
    }
   ],
   "source": [
    "loss = torch.abs(preds-t_dep).mean()\n",
    "loss"
   ]
  },
  {
   "cell_type": "code",
   "execution_count": 19,
   "id": "23fee425",
   "metadata": {},
   "outputs": [],
   "source": [
    "def calc_preds(coeffs, indeps): return (indeps*coeffs).sum(axis=1)\n",
    "def calc_loss(coeffs, indeps, deps): return torch.abs(calc_preds(coeffs, indeps)-deps).mean()"
   ]
  },
  {
   "cell_type": "markdown",
   "id": "0e751f73",
   "metadata": {},
   "source": [
    "### Gradient decent"
   ]
  },
  {
   "cell_type": "code",
   "execution_count": 20,
   "id": "41500a39",
   "metadata": {},
   "outputs": [
    {
     "data": {
      "text/plain": [
       "tensor([-0.4629,  0.1386,  0.2409, -0.2262, -0.2632, -0.3147,  0.4876,  0.3136],\n",
       "       requires_grad=True)"
      ]
     },
     "execution_count": 20,
     "metadata": {},
     "output_type": "execute_result"
    }
   ],
   "source": [
    "#Enabling gradient tracking is necessary when you want to compute gradients and \n",
    "# perform backpropagation to update the values of the tensor based on a loss function \n",
    "# or an optimization algorithm. By default, only tensors with requires_grad=True will \n",
    "# have their gradients computed during the backward pass in PyTorch.\n",
    "coeffs.requires_grad_()"
   ]
  },
  {
   "cell_type": "code",
   "execution_count": 21,
   "id": "943e171f",
   "metadata": {},
   "outputs": [
    {
     "data": {
      "text/plain": [
       "tensor(137570.0469, grad_fn=<MeanBackward0>)"
      ]
     },
     "execution_count": 21,
     "metadata": {},
     "output_type": "execute_result"
    }
   ],
   "source": [
    "loss = calc_loss(coeffs, t_indep, t_dep)\n",
    "loss"
   ]
  },
  {
   "cell_type": "code",
   "execution_count": 22,
   "id": "f170fe28",
   "metadata": {},
   "outputs": [
    {
     "data": {
      "text/plain": [
       "tensor([[0., 0., 0., 1., 0., 0., 1., 0.],\n",
       "        [0., 0., 1., 0., 1., 0., 0., 0.],\n",
       "        [0., 0., 1., 0., 1., 0., 0., 0.],\n",
       "        [0., 0., 0., 1., 0., 0., 1., 0.],\n",
       "        [0., 0., 0., 1., 0., 0., 1., 0.],\n",
       "        [0., 0., 0., 1., 0., 0., 1., 0.],\n",
       "        [0., 0., 0., 1., 0., 0., 1., 0.],\n",
       "        ...,\n",
       "        [0., 0., 1., 0., 0., 0., 1., 0.],\n",
       "        [0., 0., 0., 1., 0., 0., 1., 0.],\n",
       "        [0., 0., 0., 1., 0., 0., 1., 0.],\n",
       "        [0., 0., 1., 0., 0., 0., 1., 0.],\n",
       "        [1., 0., 0., 0., 0., 0., 1., 0.],\n",
       "        [1., 0., 0., 0., 1., 0., 0., 0.],\n",
       "        [0., 0., 0., 1., 0., 0., 1., 0.]])"
      ]
     },
     "execution_count": 22,
     "metadata": {},
     "output_type": "execute_result"
    }
   ],
   "source": [
    "t_indep"
   ]
  },
  {
   "cell_type": "code",
   "execution_count": 23,
   "id": "0c4d1e3f",
   "metadata": {},
   "outputs": [],
   "source": [
    "loss.backward()"
   ]
  },
  {
   "cell_type": "code",
   "execution_count": 24,
   "id": "b88cf1a7",
   "metadata": {},
   "outputs": [
    {
     "data": {
      "text/plain": [
       "tensor([-0.0852, -0.0304, -0.2144, -0.6700, -0.0027, -0.0027, -0.9901, -0.0045])"
      ]
     },
     "execution_count": 24,
     "metadata": {},
     "output_type": "execute_result"
    }
   ],
   "source": [
    "coeffs.grad"
   ]
  },
  {
   "cell_type": "code",
   "execution_count": 25,
   "id": "120f27fc",
   "metadata": {},
   "outputs": [
    {
     "data": {
      "text/plain": [
       "tensor([-0.1704, -0.0607, -0.4288, -1.3401, -0.0053, -0.0053, -1.9803, -0.0091])"
      ]
     },
     "execution_count": 25,
     "metadata": {},
     "output_type": "execute_result"
    }
   ],
   "source": [
    "loss = calc_loss(coeffs, t_indep, t_dep)\n",
    "loss.backward()\n",
    "coeffs.grad"
   ]
  },
  {
   "cell_type": "code",
   "execution_count": 26,
   "id": "7e38e18a",
   "metadata": {},
   "outputs": [
    {
     "name": "stdout",
     "output_type": "stream",
     "text": [
      "tensor(137569.5938)\n"
     ]
    }
   ],
   "source": [
    "loss = calc_loss(coeffs, t_indep, t_dep)\n",
    "loss.backward()\n",
    "with torch.no_grad():\n",
    "    coeffs.sub_(coeffs.grad * 0.1)\n",
    "    coeffs.grad.zero_()\n",
    "    print(calc_loss(coeffs, t_indep, t_dep))"
   ]
  },
  {
   "cell_type": "code",
   "execution_count": 27,
   "id": "90f02dec",
   "metadata": {},
   "outputs": [],
   "source": [
    "from fastai.data.transforms import RandomSplitter\n",
    "trn_split,val_split=RandomSplitter(seed=42)(df)"
   ]
  },
  {
   "cell_type": "code",
   "execution_count": 28,
   "id": "5150848c",
   "metadata": {},
   "outputs": [
    {
     "data": {
      "text/plain": [
       "(3004, 751)"
      ]
     },
     "execution_count": 28,
     "metadata": {},
     "output_type": "execute_result"
    }
   ],
   "source": [
    "trn_indep,val_indep = t_indep[trn_split],t_indep[val_split]\n",
    "trn_dep,val_dep = t_dep[trn_split],t_dep[val_split]\n",
    "len(trn_indep),len(val_indep)"
   ]
  },
  {
   "cell_type": "code",
   "execution_count": 29,
   "id": "9af8045c",
   "metadata": {},
   "outputs": [
    {
     "data": {
      "text/plain": [
       "tensor([[0., 0., 0., 1., 0., 0., 1., 0.],\n",
       "        [0., 0., 0., 1., 0., 0., 1., 0.],\n",
       "        [0., 0., 0., 1., 0., 0., 1., 0.],\n",
       "        [0., 0., 0., 1., 0., 0., 1., 0.],\n",
       "        [0., 0., 0., 1., 0., 0., 1., 0.],\n",
       "        [0., 0., 0., 1., 0., 0., 1., 0.],\n",
       "        [0., 0., 0., 1., 0., 0., 1., 0.],\n",
       "        ...,\n",
       "        [0., 0., 0., 1., 0., 0., 1., 0.],\n",
       "        [0., 0., 0., 1., 0., 0., 1., 0.],\n",
       "        [0., 0., 0., 1., 0., 0., 1., 0.],\n",
       "        [0., 0., 0., 1., 0., 0., 1., 0.],\n",
       "        [0., 0., 0., 1., 0., 0., 1., 0.],\n",
       "        [0., 0., 0., 1., 0., 0., 1., 0.],\n",
       "        [0., 0., 0., 1., 0., 0., 1., 0.]])"
      ]
     },
     "execution_count": 29,
     "metadata": {},
     "output_type": "execute_result"
    }
   ],
   "source": [
    "trn_indep"
   ]
  },
  {
   "cell_type": "code",
   "execution_count": 30,
   "id": "42ef3fee",
   "metadata": {},
   "outputs": [],
   "source": [
    "def update_coeffs(coeffs, lr):\n",
    "    coeffs.sub_(coeffs.grad * lr)\n",
    "    coeffs.grad.zero_()"
   ]
  },
  {
   "cell_type": "code",
   "execution_count": 31,
   "id": "bcce1b75",
   "metadata": {},
   "outputs": [],
   "source": [
    "def one_epoch(coeffs, lr):\n",
    "    loss = calc_loss(coeffs, trn_indep, trn_dep)\n",
    "    loss.backward()\n",
    "    with torch.no_grad(): update_coeffs(coeffs, lr)\n",
    "    print(f\"{loss:.3f}\", end=\"; \")"
   ]
  },
  {
   "cell_type": "code",
   "execution_count": 32,
   "id": "74a40bce",
   "metadata": {},
   "outputs": [],
   "source": [
    "# By subtracting 0.5 from this tensor, each random number is shifted so that \n",
    "# the new range becomes -0.5 to 0.5. This means that the initialized coefficients \n",
    "# will have values that are centered around zero, which is often desirable in \n",
    "# machine learning algorithms.The subtraction of 0.5 is used to ensure that the \n",
    "# initialized coefficients are symmetrically distributed around zero, rather than \n",
    "# being skewed towards positive or negative values. This symmetry helps prevent \n",
    "# any systematic biases in the model's learning process and promotes more balanced \n",
    "# training.\n",
    "def init_coeffs(): return (torch.rand(n_coeff)-0.5).requires_grad_()"
   ]
  },
  {
   "cell_type": "code",
   "execution_count": 33,
   "id": "1fc0a926",
   "metadata": {},
   "outputs": [],
   "source": [
    "def train_model(epochs=30, lr=0.01):\n",
    "    torch.manual_seed(442)\n",
    "    coeffs = init_coeffs()\n",
    "    for i in range(epochs): one_epoch(coeffs, lr=lr)\n",
    "    return coeffs"
   ]
  },
  {
   "cell_type": "code",
   "execution_count": 34,
   "id": "57268f30",
   "metadata": {},
   "outputs": [
    {
     "name": "stdout",
     "output_type": "stream",
     "text": [
      "137335.594; 137335.266; 137334.984; 137334.703; 137334.375; 137334.109; 137333.797; 137333.500; 137333.219; 137332.906; 137332.609; 137332.328; 137332.031; 137331.703; 137331.438; 137331.125; 137330.812; 137330.531; "
     ]
    }
   ],
   "source": [
    "coeffs = train_model(18, lr=0.2)"
   ]
  },
  {
   "cell_type": "code",
   "execution_count": 35,
   "id": "abd8be96",
   "metadata": {},
   "outputs": [
    {
     "data": {
      "text/plain": [
       "{'experience_level_EN': tensor(-0.1465),\n",
       " 'experience_level_EX': tensor(0.2536),\n",
       " 'experience_level_MI': tensor(0.9827),\n",
       " 'experience_level_SE': tensor(2.2006),\n",
       " 'employment_type_CT': tensor(-0.2561),\n",
       " 'employment_type_FL': tensor(-0.3051),\n",
       " 'employment_type_FT': tensor(4.0517),\n",
       " 'employment_type_PT': tensor(0.3327)}"
      ]
     },
     "execution_count": 35,
     "metadata": {},
     "output_type": "execute_result"
    }
   ],
   "source": [
    "def show_coeffs(): return dict(zip(indep_cols, coeffs.requires_grad_(False)))\n",
    "show_coeffs()"
   ]
  },
  {
   "cell_type": "markdown",
   "id": "f9d3889d",
   "metadata": {},
   "source": [
    "### measureing accuracy"
   ]
  },
  {
   "cell_type": "code",
   "execution_count": 36,
   "id": "61df9805",
   "metadata": {},
   "outputs": [],
   "source": [
    "preds = calc_preds(coeffs, val_indep)"
   ]
  },
  {
   "cell_type": "code",
   "execution_count": 37,
   "id": "2b77099f",
   "metadata": {},
   "outputs": [
    {
     "data": {
      "text/plain": [
       "tensor([True, True, True, True, True, True, True, True, True, True, True, True, True, True, True,\n",
       "        True])"
      ]
     },
     "execution_count": 37,
     "metadata": {},
     "output_type": "execute_result"
    }
   ],
   "source": [
    "results = val_dep.bool()\n",
    "results[:16]"
   ]
  },
  {
   "cell_type": "code",
   "execution_count": 38,
   "id": "2046c168",
   "metadata": {},
   "outputs": [
    {
     "data": {
      "text/plain": [
       "tensor(1.)"
      ]
     },
     "execution_count": 38,
     "metadata": {},
     "output_type": "execute_result"
    }
   ],
   "source": [
    "results.float().mean()"
   ]
  },
  {
   "cell_type": "code",
   "execution_count": 39,
   "id": "af1231a6",
   "metadata": {},
   "outputs": [
    {
     "data": {
      "text/plain": [
       "tensor(0.)"
      ]
     },
     "execution_count": 39,
     "metadata": {},
     "output_type": "execute_result"
    }
   ],
   "source": [
    "def acc(coeffs): return (val_dep.bool()==(calc_preds(coeffs, val_indep))).float().mean()\n",
    "acc(coeffs)"
   ]
  },
  {
   "cell_type": "markdown",
   "id": "c7e2090b",
   "metadata": {},
   "source": [
    "### using sigmoid"
   ]
  },
  {
   "cell_type": "code",
   "execution_count": 40,
   "id": "eae1637c",
   "metadata": {},
   "outputs": [
    {
     "data": {
      "text/plain": [
       "tensor([5.0344, 6.2523, 5.0344, 6.2523, 6.2523, 6.2523, 6.2523, 6.2523, 6.2523, 6.2523, 5.0344,\n",
       "        5.0344, 6.2523, 3.9051, 5.0344, 6.2523, 5.0344, 6.2523, 6.2523, 6.2523, 6.2523, 6.2523,\n",
       "        6.2523, 6.2523, 5.0344, 3.9051, 5.0344, 6.2523])"
      ]
     },
     "execution_count": 40,
     "metadata": {},
     "output_type": "execute_result"
    }
   ],
   "source": [
    "preds[:28]"
   ]
  },
  {
   "cell_type": "code",
   "execution_count": 41,
   "id": "21e9750f",
   "metadata": {},
   "outputs": [
    {
     "data": {
      "image/png": "[encoded data removed]",
      "text/plain": [
       "<Figure size 640x480 with 1 Axes>"
      ]
     },
     "metadata": {},
     "output_type": "display_data"
    }
   ],
   "source": [
    "import sympy\n",
    "sympy.plot(\"1/(1+exp(-x))\", xlim=(-5,5));"
   ]
  },
  {
   "cell_type": "code",
   "execution_count": 42,
   "id": "268e42ae",
   "metadata": {},
   "outputs": [],
   "source": [
    "def calc_preds(coeffs, indeps): return torch.sigmoid((indeps*coeffs).sum(axis=1))"
   ]
  },
  {
   "cell_type": "code",
   "execution_count": 43,
   "id": "713ad827",
   "metadata": {},
   "outputs": [
    {
     "name": "stdout",
     "output_type": "stream",
     "text": [
      "137335.344; 137334.922; 137334.922; 137334.922; 137334.922; 137334.922; 137334.922; 137334.922; 137334.922; 137334.922; 137334.922; 137334.922; 137334.922; 137334.922; 137334.922; 137334.922; 137334.922; 137334.922; 137334.922; 137334.922; 137334.922; 137334.922; 137334.922; 137334.922; 137334.922; 137334.922; 137334.922; 137334.922; 137334.922; 137334.922; "
     ]
    }
   ],
   "source": [
    "coeffs = train_model(lr=100)"
   ]
  },
  {
   "cell_type": "code",
   "execution_count": 44,
   "id": "2b3ad4ac",
   "metadata": {},
   "outputs": [
    {
     "data": {
      "text/plain": [
       "tensor(0.9907)"
      ]
     },
     "execution_count": 44,
     "metadata": {},
     "output_type": "execute_result"
    }
   ],
   "source": [
    "acc(coeffs)"
   ]
  },
  {
   "cell_type": "code",
   "execution_count": 45,
   "id": "fe42a83c",
   "metadata": {},
   "outputs": [
    {
     "data": {
      "text/plain": [
       "{'experience_level_EN': tensor(2.4564),\n",
       " 'experience_level_EX': tensor(1.0658),\n",
       " 'experience_level_MI': tensor(4.8465),\n",
       " 'experience_level_SE': tensor(16.3396),\n",
       " 'employment_type_CT': tensor(0.0124),\n",
       " 'employment_type_FL': tensor(-0.1096),\n",
       " 'employment_type_FT': tensor(24.2637),\n",
       " 'employment_type_PT': tensor(1.0747)}"
      ]
     },
     "execution_count": 45,
     "metadata": {},
     "output_type": "execute_result"
    }
   ],
   "source": [
    "show_coeffs()"
   ]
  },
  {
   "cell_type": "markdown",
   "id": "f5596195",
   "metadata": {},
   "source": [
    "### using matrix product"
   ]
  },
  {
   "cell_type": "code",
   "execution_count": 47,
   "id": "19649f4c",
   "metadata": {},
   "outputs": [
    {
     "data": {
      "text/plain": [
       "tensor([29.1102, 40.6033, 29.1102, 40.6033, 40.6033, 40.6033, 40.6033, 40.6033, 40.6033, 40.6033,\n",
       "        29.1102, 29.1102, 40.6033, 26.7201, 29.1102, 40.6033, 29.1102, 40.6033, 40.6033, 40.6033,\n",
       "        40.6033, 40.6033, 40.6033, 40.6033, 29.1102, 26.7201, 29.1102, 40.6033, 40.6033, 40.6033,\n",
       "        40.6033, 26.7201, 25.3295, 26.7201, 40.6033, 40.6033, 26.7201, 40.6033, 29.1102, 29.1102,\n",
       "        40.6033, 26.7201, 29.1102, 40.6033, 25.3295, 26.7201, 40.6033, 29.1102, 40.6033, 29.1102,\n",
       "        40.6033, 40.6033, 29.1102, 29.1102, 40.6033, 40.6033, 29.1102, 40.6033, 40.6033, 40.6033,\n",
       "        40.6033, 40.6033, 29.1102, 29.1102, 26.7201, 40.6033, 29.1102, 26.7201, 40.6033, 40.6033,\n",
       "        29.1102, 40.6033, 40.6033, 40.6033, 29.1102, 40.6033, 40.6033, 26.7201, 40.6033, 40.6033,\n",
       "        40.6033, 29.1102, 29.1102, 40.6033, 40.6033, 40.6033, 25.3295, 40.6033, 40.6033,  2.4689,\n",
       "        40.6033, 25.3295, 40.6033, 29.1102, 40.6033, 40.6033, 29.1102, 29.1102, 40.6033, 29.1102,\n",
       "        29.1102, 40.6033, 40.6033, 40.6033, 26.7201, 40.6033, 40.6033, 40.6033, 40.6033, 29.1102,\n",
       "        40.6033, 29.1102, 40.6033, 40.6033, 40.6033, 40.6033, 29.1102, 40.6033, 40.6033, 29.1102,\n",
       "        40.6033, 29.1102, 40.6033, 29.1102, 40.6033, 29.1102, 40.6033, 40.6033, 40.6033, 40.6033,\n",
       "        29.1102, 40.6033, 29.1102, 40.6033, 26.7201, 29.1102, 40.6033, 40.6033, 40.6033, 40.6033,\n",
       "        29.1102, 29.1102, 29.1102, 29.1102, 40.6033, 40.6033, 40.6033, 40.6033, 40.6033, 29.1102,\n",
       "        40.6033, 29.1102, 40.6033, 40.6033, 40.6033, 29.1102, 40.6033, 29.1102, 40.6033, 40.6033,\n",
       "        40.6033, 40.6033, 40.6033, 40.6033, 40.6033, 40.6033, 29.1102, 40.6033, 40.6033,  4.7369,\n",
       "        40.6033, 40.6033, 40.6033, 40.6033, 29.1102, 40.6033, 25.3295, 40.6033, 40.6033, 40.6033,\n",
       "        40.6033, 40.6033, 40.6033, 26.7201, 29.1102, 26.7201, 40.6033, 40.6033, 40.6033, 40.6033,\n",
       "        40.6033, 40.6033, 40.6033, 40.6033, 40.6033, 29.1102, 29.1102, 40.6033, 26.7201, 26.7201,\n",
       "        29.1102, 26.7201, 29.1102, 25.3295, 29.1102, 26.7201, 40.6033, 40.6033, 26.7201, 40.6033,\n",
       "        40.6033, 40.6033, 40.6033, 40.6033, 29.1102, 40.6033, 29.1102, 40.6033, 29.1102, 26.7201,\n",
       "        40.6033, 40.6033, 40.6033, 40.6033, 40.6033, 40.6033, 40.6033, 40.6033, 40.6033, 29.1102,\n",
       "        29.1102, 29.1102, 29.1102, 40.6033, 40.6033, 40.6033, 29.1102, 40.6033, 40.6033, 26.7201,\n",
       "        40.6033, 40.6033, 29.1102, 40.6033, 40.6033, 40.6033, 29.1102, 40.6033, 40.6033, 29.1102,\n",
       "        29.1102, 29.1102, 29.1102, 25.3295, 40.6033, 40.6033, 40.6033, 40.6033, 40.6033, 29.1102,\n",
       "        40.6033, 40.6033, 29.1102, 40.6033, 40.6033, 40.6033, 40.6033, 25.3295, 40.6033, 40.6033,\n",
       "        29.1102, 40.6033, 40.6033, 40.6033, 25.3295, 40.6033, 29.1102, 29.1102, 40.6033, 40.6033,\n",
       "        40.6033, 40.6033, 40.6033, 40.6033, 40.6033, 40.6033, 29.1102, 40.6033, 40.6033, 40.6033,\n",
       "        29.1102, 40.6033, 40.6033, 40.6033, 40.6033, 29.1102, 25.3295, 40.6033, 29.1102, 40.6033,\n",
       "        40.6033, 40.6033, 40.6033, 40.6033, 29.1102, 29.1102, 40.6033, 29.1102, 29.1102, 40.6033,\n",
       "        40.6033, 40.6033, 40.6033, 40.6033, 26.7201, 40.6033, 40.6033, 40.6033, 40.6033, 40.6033,\n",
       "        29.1102, 40.6033, 40.6033, 40.6033, 29.1102, 29.1102, 29.1102, 29.1102, 29.1102, 40.6033,\n",
       "        40.6033, 40.6033, 40.6033, 40.6033, 40.6033, 40.6033, 40.6033, 40.6033, 40.6033, 40.6033,\n",
       "        40.6033, 40.6033, 40.6033, 40.6033, 29.1102, 40.6033, 29.1102, 26.7201, 40.6033, 40.6033,\n",
       "        40.6033, 25.3295, 29.1102, 29.1102, 40.6033, 40.6033, 40.6033, 40.6033, 40.6033, 40.6033,\n",
       "        40.6033, 40.6033, 40.6033, 40.6033, 40.6033, 40.6033, 40.6033, 40.6033, 40.6033, 29.1102,\n",
       "        40.6033, 29.1102, 40.6033, 40.6033, 29.1102, 29.1102, 29.1102, 40.6033, 40.6033, 40.6033,\n",
       "        40.6033, 40.6033, 40.6033, 29.1102, 40.6033, 29.1102, 29.1102, 29.1102, 40.6033, 40.6033,\n",
       "        40.6033,  4.8590, 40.6033, 40.6033, 40.6033, 40.6033, 25.3295, 40.6033, 26.7201, 40.6033,\n",
       "        40.6033, 40.6033, 40.6033, 29.1102, 40.6033, 40.6033, 40.6033, 29.1102, 40.6033, 29.1102,\n",
       "        40.6033, 40.6033, 40.6033, 40.6033, 29.1102, 40.6033, 40.6033, 40.6033, 26.7201, 40.6033,\n",
       "        40.6033, 40.6033, 40.6033, 40.6033, 29.1102, 40.6033, 40.6033, 26.7201, 40.6033, 40.6033,\n",
       "        40.6033, 40.6033, 40.6033, 40.6033, 29.1102, 29.1102, 40.6033, 40.6033, 29.1102, 29.1102,\n",
       "        29.1102, 40.6033, 40.6033, 40.6033, 40.6033, 26.7201, 29.1102, 40.6033, 40.6033, 40.6033,\n",
       "        40.6033, 29.1102, 40.6033, 40.6033, 40.6033, 40.6033, 40.6033, 40.6033, 40.6033, 40.6033,\n",
       "        40.6033, 29.1102, 26.7201, 40.6033, 40.6033, 40.6033, 40.6033, 26.7201, 40.6033, 40.6033,\n",
       "        40.6033, 29.1102, 29.1102, 40.6033, 40.6033, 29.1102, 40.6033, 29.1102, 29.1102, 26.7201,\n",
       "        40.6033, 29.1102, 29.1102, 40.6033, 29.1102, 40.6033, 40.6033, 40.6033, 40.6033, 40.6033,\n",
       "        29.1102, 40.6033, 40.6033, 40.6033, 40.6033, 29.1102, 29.1102, 40.6033, 29.1102, 40.6033,\n",
       "        29.1102, 40.6033, 26.7201, 40.6033, 26.7201, 40.6033, 29.1102, 40.6033, 29.1102, 40.6033,\n",
       "        29.1102, 40.6033, 40.6033, 40.6033, 29.1102, 40.6033, 29.1102, 25.3295, 29.1102, 40.6033,\n",
       "        40.6033,  4.8590, 40.6033, 40.6033, 26.7201, 40.6033, 26.7201, 29.1102, 40.6033, 40.6033,\n",
       "        29.1102, 26.7201, 40.6033, 40.6033, 40.6033, 29.1102, 40.6033, 40.6033, 40.6033, 40.6033,\n",
       "        40.6033, 40.6033, 40.6033, 29.1102, 40.6033, 29.1102, 40.6033, 40.6033, 29.1102, 26.7201,\n",
       "        40.6033, 29.1102, 40.6033, 40.6033, 40.6033, 40.6033, 40.6033, 26.7201, 40.6033, 40.6033,\n",
       "        25.3295, 29.1102, 26.7201, 40.6033, 40.6033, 40.6033, 29.1102, 40.6033, 40.6033, 29.1102,\n",
       "        40.6033, 29.1102, 40.6033, 29.1102, 40.6033, 40.6033, 40.6033, 40.6033, 40.6033, 29.1102,\n",
       "        40.6033, 40.6033, 29.1102, 40.6033, 29.1102, 40.6033, 29.1102, 40.6033, 40.6033, 40.6033,\n",
       "        40.6033, 40.6033, 40.6033, 26.7201, 29.1102, 40.6033, 29.1102, 40.6033, 40.6033, 40.6033,\n",
       "        40.6033, 40.6033, 29.1102, 40.6033, 40.6033, 40.6033,  2.4689, 29.1102, 40.6033, 29.1102,\n",
       "        25.3295, 40.6033, 40.6033, 26.7201, 40.6033, 40.6033, 40.6033,  2.3468, 40.6033, 26.7201,\n",
       "        29.1102, 40.6033, 29.1102, 29.1102, 40.6033, 40.6033, 40.6033, 26.7201, 40.6033, 29.1102,\n",
       "        29.1102, 26.7201, 29.1102, 40.6033, 40.6033, 29.1102, 40.6033, 40.6033, 29.1102, 40.6033,\n",
       "        40.6033, 40.6033, 40.6033, 40.6033, 40.6033, 26.7201, 29.1102, 26.7201, 40.6033, 40.6033,\n",
       "        40.6033, 40.6033, 40.6033, 29.1102, 40.6033, 40.6033, 40.6033, 40.6033, 40.6033, 40.6033,\n",
       "        29.1102, 40.6033, 40.6033, 40.6033, 40.6033, 26.7201, 40.6033, 29.1102, 40.6033, 40.6033,\n",
       "        29.1102, 40.6033, 29.1102, 40.6033, 29.1102, 29.1102, 25.3295, 40.6033, 29.1102, 26.7201,\n",
       "        40.6033, 40.6033, 29.1102, 29.1102, 40.6033, 25.3295, 40.6033, 29.1102, 40.6033, 40.6033,\n",
       "        40.6033, 40.6033, 40.6033, 40.6033, 40.6033, 29.1102, 40.6033, 40.6033, 40.6033, 26.7201,\n",
       "        40.6033, 40.6033, 40.6033, 40.6033, 40.6033, 40.6033, 40.6033, 40.6033, 29.1102, 40.6033,\n",
       "        40.6033, 40.6033, 29.1102, 40.6033, 40.6033, 26.7201, 40.6033, 40.6033, 40.6033, 40.6033,\n",
       "        40.6033, 40.6033, 40.6033, 29.1102, 40.6033, 40.6033, 40.6033,  3.5311, 40.6033, 40.6033,\n",
       "        40.6033, 40.6033, 25.3295, 26.7201, 29.1102, 29.1102, 40.6033, 40.6033, 40.6033, 26.7201,\n",
       "        40.6033, 26.7201, 40.6033, 29.1102, 40.6033, 40.6033, 29.1102, 29.1102, 40.6033, 29.1102,\n",
       "        40.6033])"
      ]
     },
     "execution_count": 47,
     "metadata": {},
     "output_type": "execute_result"
    }
   ],
   "source": [
    "(val_indep*coeffs).sum(axis=1)"
   ]
  },
  {
   "cell_type": "code",
   "execution_count": 48,
   "id": "b93bb357",
   "metadata": {},
   "outputs": [
    {
     "data": {
      "text/plain": [
       "tensor([29.1102, 40.6033, 29.1102, 40.6033, 40.6033, 40.6033, 40.6033, 40.6033, 40.6033, 40.6033,\n",
       "        29.1102, 29.1102, 40.6033, 26.7201, 29.1102, 40.6033, 29.1102, 40.6033, 40.6033, 40.6033,\n",
       "        40.6033, 40.6033, 40.6033, 40.6033, 29.1102, 26.7201, 29.1102, 40.6033, 40.6033, 40.6033,\n",
       "        40.6033, 26.7201, 25.3295, 26.7201, 40.6033, 40.6033, 26.7201, 40.6033, 29.1102, 29.1102,\n",
       "        40.6033, 26.7201, 29.1102, 40.6033, 25.3295, 26.7201, 40.6033, 29.1102, 40.6033, 29.1102,\n",
       "        40.6033, 40.6033, 29.1102, 29.1102, 40.6033, 40.6033, 29.1102, 40.6033, 40.6033, 40.6033,\n",
       "        40.6033, 40.6033, 29.1102, 29.1102, 26.7201, 40.6033, 29.1102, 26.7201, 40.6033, 40.6033,\n",
       "        29.1102, 40.6033, 40.6033, 40.6033, 29.1102, 40.6033, 40.6033, 26.7201, 40.6033, 40.6033,\n",
       "        40.6033, 29.1102, 29.1102, 40.6033, 40.6033, 40.6033, 25.3295, 40.6033, 40.6033,  2.4689,\n",
       "        40.6033, 25.3295, 40.6033, 29.1102, 40.6033, 40.6033, 29.1102, 29.1102, 40.6033, 29.1102,\n",
       "        29.1102, 40.6033, 40.6033, 40.6033, 26.7201, 40.6033, 40.6033, 40.6033, 40.6033, 29.1102,\n",
       "        40.6033, 29.1102, 40.6033, 40.6033, 40.6033, 40.6033, 29.1102, 40.6033, 40.6033, 29.1102,\n",
       "        40.6033, 29.1102, 40.6033, 29.1102, 40.6033, 29.1102, 40.6033, 40.6033, 40.6033, 40.6033,\n",
       "        29.1102, 40.6033, 29.1102, 40.6033, 26.7201, 29.1102, 40.6033, 40.6033, 40.6033, 40.6033,\n",
       "        29.1102, 29.1102, 29.1102, 29.1102, 40.6033, 40.6033, 40.6033, 40.6033, 40.6033, 29.1102,\n",
       "        40.6033, 29.1102, 40.6033, 40.6033, 40.6033, 29.1102, 40.6033, 29.1102, 40.6033, 40.6033,\n",
       "        40.6033, 40.6033, 40.6033, 40.6033, 40.6033, 40.6033, 29.1102, 40.6033, 40.6033,  4.7369,\n",
       "        40.6033, 40.6033, 40.6033, 40.6033, 29.1102, 40.6033, 25.3295, 40.6033, 40.6033, 40.6033,\n",
       "        40.6033, 40.6033, 40.6033, 26.7201, 29.1102, 26.7201, 40.6033, 40.6033, 40.6033, 40.6033,\n",
       "        40.6033, 40.6033, 40.6033, 40.6033, 40.6033, 29.1102, 29.1102, 40.6033, 26.7201, 26.7201,\n",
       "        29.1102, 26.7201, 29.1102, 25.3295, 29.1102, 26.7201, 40.6033, 40.6033, 26.7201, 40.6033,\n",
       "        40.6033, 40.6033, 40.6033, 40.6033, 29.1102, 40.6033, 29.1102, 40.6033, 29.1102, 26.7201,\n",
       "        40.6033, 40.6033, 40.6033, 40.6033, 40.6033, 40.6033, 40.6033, 40.6033, 40.6033, 29.1102,\n",
       "        29.1102, 29.1102, 29.1102, 40.6033, 40.6033, 40.6033, 29.1102, 40.6033, 40.6033, 26.7201,\n",
       "        40.6033, 40.6033, 29.1102, 40.6033, 40.6033, 40.6033, 29.1102, 40.6033, 40.6033, 29.1102,\n",
       "        29.1102, 29.1102, 29.1102, 25.3295, 40.6033, 40.6033, 40.6033, 40.6033, 40.6033, 29.1102,\n",
       "        40.6033, 40.6033, 29.1102, 40.6033, 40.6033, 40.6033, 40.6033, 25.3295, 40.6033, 40.6033,\n",
       "        29.1102, 40.6033, 40.6033, 40.6033, 25.3295, 40.6033, 29.1102, 29.1102, 40.6033, 40.6033,\n",
       "        40.6033, 40.6033, 40.6033, 40.6033, 40.6033, 40.6033, 29.1102, 40.6033, 40.6033, 40.6033,\n",
       "        29.1102, 40.6033, 40.6033, 40.6033, 40.6033, 29.1102, 25.3295, 40.6033, 29.1102, 40.6033,\n",
       "        40.6033, 40.6033, 40.6033, 40.6033, 29.1102, 29.1102, 40.6033, 29.1102, 29.1102, 40.6033,\n",
       "        40.6033, 40.6033, 40.6033, 40.6033, 26.7201, 40.6033, 40.6033, 40.6033, 40.6033, 40.6033,\n",
       "        29.1102, 40.6033, 40.6033, 40.6033, 29.1102, 29.1102, 29.1102, 29.1102, 29.1102, 40.6033,\n",
       "        40.6033, 40.6033, 40.6033, 40.6033, 40.6033, 40.6033, 40.6033, 40.6033, 40.6033, 40.6033,\n",
       "        40.6033, 40.6033, 40.6033, 40.6033, 29.1102, 40.6033, 29.1102, 26.7201, 40.6033, 40.6033,\n",
       "        40.6033, 25.3295, 29.1102, 29.1102, 40.6033, 40.6033, 40.6033, 40.6033, 40.6033, 40.6033,\n",
       "        40.6033, 40.6033, 40.6033, 40.6033, 40.6033, 40.6033, 40.6033, 40.6033, 40.6033, 29.1102,\n",
       "        40.6033, 29.1102, 40.6033, 40.6033, 29.1102, 29.1102, 29.1102, 40.6033, 40.6033, 40.6033,\n",
       "        40.6033, 40.6033, 40.6033, 29.1102, 40.6033, 29.1102, 29.1102, 29.1102, 40.6033, 40.6033,\n",
       "        40.6033,  4.8590, 40.6033, 40.6033, 40.6033, 40.6033, 25.3295, 40.6033, 26.7201, 40.6033,\n",
       "        40.6033, 40.6033, 40.6033, 29.1102, 40.6033, 40.6033, 40.6033, 29.1102, 40.6033, 29.1102,\n",
       "        40.6033, 40.6033, 40.6033, 40.6033, 29.1102, 40.6033, 40.6033, 40.6033, 26.7201, 40.6033,\n",
       "        40.6033, 40.6033, 40.6033, 40.6033, 29.1102, 40.6033, 40.6033, 26.7201, 40.6033, 40.6033,\n",
       "        40.6033, 40.6033, 40.6033, 40.6033, 29.1102, 29.1102, 40.6033, 40.6033, 29.1102, 29.1102,\n",
       "        29.1102, 40.6033, 40.6033, 40.6033, 40.6033, 26.7201, 29.1102, 40.6033, 40.6033, 40.6033,\n",
       "        40.6033, 29.1102, 40.6033, 40.6033, 40.6033, 40.6033, 40.6033, 40.6033, 40.6033, 40.6033,\n",
       "        40.6033, 29.1102, 26.7201, 40.6033, 40.6033, 40.6033, 40.6033, 26.7201, 40.6033, 40.6033,\n",
       "        40.6033, 29.1102, 29.1102, 40.6033, 40.6033, 29.1102, 40.6033, 29.1102, 29.1102, 26.7201,\n",
       "        40.6033, 29.1102, 29.1102, 40.6033, 29.1102, 40.6033, 40.6033, 40.6033, 40.6033, 40.6033,\n",
       "        29.1102, 40.6033, 40.6033, 40.6033, 40.6033, 29.1102, 29.1102, 40.6033, 29.1102, 40.6033,\n",
       "        29.1102, 40.6033, 26.7201, 40.6033, 26.7201, 40.6033, 29.1102, 40.6033, 29.1102, 40.6033,\n",
       "        29.1102, 40.6033, 40.6033, 40.6033, 29.1102, 40.6033, 29.1102, 25.3295, 29.1102, 40.6033,\n",
       "        40.6033,  4.8590, 40.6033, 40.6033, 26.7201, 40.6033, 26.7201, 29.1102, 40.6033, 40.6033,\n",
       "        29.1102, 26.7201, 40.6033, 40.6033, 40.6033, 29.1102, 40.6033, 40.6033, 40.6033, 40.6033,\n",
       "        40.6033, 40.6033, 40.6033, 29.1102, 40.6033, 29.1102, 40.6033, 40.6033, 29.1102, 26.7201,\n",
       "        40.6033, 29.1102, 40.6033, 40.6033, 40.6033, 40.6033, 40.6033, 26.7201, 40.6033, 40.6033,\n",
       "        25.3295, 29.1102, 26.7201, 40.6033, 40.6033, 40.6033, 29.1102, 40.6033, 40.6033, 29.1102,\n",
       "        40.6033, 29.1102, 40.6033, 29.1102, 40.6033, 40.6033, 40.6033, 40.6033, 40.6033, 29.1102,\n",
       "        40.6033, 40.6033, 29.1102, 40.6033, 29.1102, 40.6033, 29.1102, 40.6033, 40.6033, 40.6033,\n",
       "        40.6033, 40.6033, 40.6033, 26.7201, 29.1102, 40.6033, 29.1102, 40.6033, 40.6033, 40.6033,\n",
       "        40.6033, 40.6033, 29.1102, 40.6033, 40.6033, 40.6033,  2.4689, 29.1102, 40.6033, 29.1102,\n",
       "        25.3295, 40.6033, 40.6033, 26.7201, 40.6033, 40.6033, 40.6033,  2.3468, 40.6033, 26.7201,\n",
       "        29.1102, 40.6033, 29.1102, 29.1102, 40.6033, 40.6033, 40.6033, 26.7201, 40.6033, 29.1102,\n",
       "        29.1102, 26.7201, 29.1102, 40.6033, 40.6033, 29.1102, 40.6033, 40.6033, 29.1102, 40.6033,\n",
       "        40.6033, 40.6033, 40.6033, 40.6033, 40.6033, 26.7201, 29.1102, 26.7201, 40.6033, 40.6033,\n",
       "        40.6033, 40.6033, 40.6033, 29.1102, 40.6033, 40.6033, 40.6033, 40.6033, 40.6033, 40.6033,\n",
       "        29.1102, 40.6033, 40.6033, 40.6033, 40.6033, 26.7201, 40.6033, 29.1102, 40.6033, 40.6033,\n",
       "        29.1102, 40.6033, 29.1102, 40.6033, 29.1102, 29.1102, 25.3295, 40.6033, 29.1102, 26.7201,\n",
       "        40.6033, 40.6033, 29.1102, 29.1102, 40.6033, 25.3295, 40.6033, 29.1102, 40.6033, 40.6033,\n",
       "        40.6033, 40.6033, 40.6033, 40.6033, 40.6033, 29.1102, 40.6033, 40.6033, 40.6033, 26.7201,\n",
       "        40.6033, 40.6033, 40.6033, 40.6033, 40.6033, 40.6033, 40.6033, 40.6033, 29.1102, 40.6033,\n",
       "        40.6033, 40.6033, 29.1102, 40.6033, 40.6033, 26.7201, 40.6033, 40.6033, 40.6033, 40.6033,\n",
       "        40.6033, 40.6033, 40.6033, 29.1102, 40.6033, 40.6033, 40.6033,  3.5311, 40.6033, 40.6033,\n",
       "        40.6033, 40.6033, 25.3295, 26.7201, 29.1102, 29.1102, 40.6033, 40.6033, 40.6033, 26.7201,\n",
       "        40.6033, 26.7201, 40.6033, 29.1102, 40.6033, 40.6033, 29.1102, 29.1102, 40.6033, 29.1102,\n",
       "        40.6033])"
      ]
     },
     "execution_count": 48,
     "metadata": {},
     "output_type": "execute_result"
    }
   ],
   "source": [
    "val_indep@coeffs"
   ]
  },
  {
   "cell_type": "code",
   "execution_count": 49,
   "id": "d864bfd5",
   "metadata": {},
   "outputs": [],
   "source": [
    "def calc_preds(coeffs, indeps): return torch.sigmoid(indeps@coeffs)"
   ]
  },
  {
   "cell_type": "code",
   "execution_count": 50,
   "id": "004b1dd9",
   "metadata": {},
   "outputs": [],
   "source": [
    "def init_coeffs(): return (torch.rand(n_coeff, 1)*0.1).requires_grad_()"
   ]
  },
  {
   "cell_type": "code",
   "execution_count": 51,
   "id": "b5866f4d",
   "metadata": {},
   "outputs": [],
   "source": [
    "trn_dep = trn_dep[:,None]\n",
    "val_dep = val_dep[:,None]"
   ]
  },
  {
   "cell_type": "code",
   "execution_count": 52,
   "id": "cdcdfdb8",
   "metadata": {},
   "outputs": [
    {
     "name": "stdout",
     "output_type": "stream",
     "text": [
      "137335.406; 137334.922; 137334.922; 137334.922; 137334.922; 137334.922; 137334.922; 137334.922; 137334.922; 137334.922; 137334.922; 137334.922; 137334.922; 137334.922; 137334.922; 137334.922; 137334.922; 137334.922; 137334.922; 137334.922; 137334.922; 137334.922; 137334.922; 137334.922; 137334.922; 137334.922; 137334.922; 137334.922; 137334.922; 137334.922; "
     ]
    }
   ],
   "source": [
    "coeffs = train_model(lr=100)"
   ]
  },
  {
   "cell_type": "code",
   "execution_count": 53,
   "id": "3128ccf7",
   "metadata": {},
   "outputs": [
    {
     "data": {
      "text/plain": [
       "tensor(0.9907)"
      ]
     },
     "execution_count": 53,
     "metadata": {},
     "output_type": "execute_result"
    }
   ],
   "source": [
    "acc(coeffs)"
   ]
  },
  {
   "cell_type": "markdown",
   "id": "67552208",
   "metadata": {},
   "source": [
    "### Neural network"
   ]
  },
  {
   "cell_type": "code",
   "execution_count": 54,
   "id": "0a48c79b",
   "metadata": {},
   "outputs": [],
   "source": [
    "def init_coeffs(n_hidden=20):\n",
    "    layer1 = (torch.rand(n_coeff, n_hidden)-0.5)/n_hidden\n",
    "    layer2 = torch.rand(n_hidden, 1)-0.3\n",
    "    const = torch.rand(1)[0]\n",
    "    return layer1.requires_grad_(),layer2.requires_grad_(),const.requires_grad_()"
   ]
  },
  {
   "cell_type": "code",
   "execution_count": 55,
   "id": "b8709a42",
   "metadata": {},
   "outputs": [],
   "source": [
    "import torch.nn.functional as F\n",
    "\n",
    "def calc_preds(coeffs, indeps):\n",
    "    l1,l2,const = coeffs\n",
    "    res = F.relu(indeps@l1)\n",
    "    res = res@l2 + const\n",
    "    return torch.sigmoid(res)"
   ]
  },
  {
   "cell_type": "code",
   "execution_count": 56,
   "id": "b3a3d310",
   "metadata": {},
   "outputs": [],
   "source": [
    "def update_coeffs(coeffs, lr):\n",
    "    for layer in coeffs:\n",
    "        layer.sub_(layer.grad * lr)\n",
    "        layer.grad.zero_()"
   ]
  },
  {
   "cell_type": "code",
   "execution_count": 57,
   "id": "b0cb7691",
   "metadata": {},
   "outputs": [
    {
     "name": "stdout",
     "output_type": "stream",
     "text": [
      "137335.203; 137335.062; 137334.984; 137334.953; 137334.938; 137334.938; 137334.938; 137334.938; 137334.938; 137334.922; 137334.922; 137334.922; 137334.922; 137334.922; 137334.922; 137334.922; 137334.922; 137334.922; 137334.922; 137334.922; 137334.922; 137334.922; 137334.922; 137334.922; 137334.922; 137334.922; 137334.922; 137334.922; 137334.922; 137334.922; "
     ]
    }
   ],
   "source": [
    "coeffs = train_model(lr=1.4)"
   ]
  },
  {
   "cell_type": "code",
   "execution_count": 58,
   "id": "02841537",
   "metadata": {},
   "outputs": [
    {
     "name": "stdout",
     "output_type": "stream",
     "text": [
      "137335.203; 137334.922; 137334.922; 137334.922; 137334.922; 137334.922; 137334.922; 137334.922; 137334.922; 137334.922; 137334.922; 137334.922; 137334.922; 137334.922; 137334.922; 137334.922; 137334.922; 137334.922; 137334.922; 137334.922; 137334.922; 137334.922; 137334.922; 137334.922; 137334.922; 137334.922; 137334.922; 137334.922; 137334.922; 137334.922; "
     ]
    }
   ],
   "source": [
    "coeffs = train_model(lr=20)"
   ]
  },
  {
   "cell_type": "code",
   "execution_count": 59,
   "id": "84b5c196",
   "metadata": {},
   "outputs": [
    {
     "data": {
      "text/plain": [
       "tensor(0.)"
      ]
     },
     "execution_count": 59,
     "metadata": {},
     "output_type": "execute_result"
    }
   ],
   "source": [
    "acc(coeffs)"
   ]
  },
  {
   "cell_type": "markdown",
   "id": "ba74fea9",
   "metadata": {},
   "source": [
    "### Deeplearning"
   ]
  },
  {
   "cell_type": "code",
   "execution_count": 60,
   "id": "0488286d",
   "metadata": {},
   "outputs": [],
   "source": [
    "def init_coeffs():\n",
    "    hiddens = [10, 10]  # <-- set this to the size of each hidden layer you want\n",
    "    sizes = [n_coeff] + hiddens + [1]\n",
    "    n = len(sizes)\n",
    "    layers = [(torch.rand(sizes[i], sizes[i+1])-0.3)/sizes[i+1]*4 for i in range(n-1)]\n",
    "    consts = [(torch.rand(1)[0]-0.5)*0.1 for i in range(n-1)]\n",
    "    for l in layers+consts: l.requires_grad_()\n",
    "    return layers,consts"
   ]
  },
  {
   "cell_type": "code",
   "execution_count": 61,
   "id": "801c299e",
   "metadata": {},
   "outputs": [],
   "source": [
    "import torch.nn.functional as F\n",
    "\n",
    "def calc_preds(coeffs, indeps):\n",
    "    layers,consts = coeffs\n",
    "    n = len(layers)\n",
    "    res = indeps\n",
    "    for i,l in enumerate(layers):\n",
    "        res = res@l + consts[i]\n",
    "        if i!=n-1: res = F.relu(res)\n",
    "    return torch.sigmoid(res)"
   ]
  },
  {
   "cell_type": "code",
   "execution_count": 62,
   "id": "1b6892ac",
   "metadata": {},
   "outputs": [],
   "source": [
    "def update_coeffs(coeffs, lr):\n",
    "    layers,consts = coeffs\n",
    "    for layer in layers+consts:\n",
    "        layer.sub_(layer.grad * lr)\n",
    "        layer.grad.zero_()"
   ]
  },
  {
   "cell_type": "code",
   "execution_count": 63,
   "id": "260dd13a",
   "metadata": {},
   "outputs": [
    {
     "name": "stdout",
     "output_type": "stream",
     "text": [
      "137335.391; 137334.922; 137334.922; 137334.922; 137334.922; 137334.922; 137334.922; 137334.922; 137334.922; 137334.922; 137334.922; 137334.922; 137334.922; 137334.922; 137334.922; 137334.922; 137334.922; 137334.922; 137334.922; 137334.922; 137334.922; 137334.922; 137334.922; 137334.922; 137334.922; 137334.922; 137334.922; 137334.922; 137334.922; 137334.922; "
     ]
    }
   ],
   "source": [
    "coeffs = train_model(lr=4)"
   ]
  },
  {
   "cell_type": "code",
   "execution_count": 64,
   "id": "3a34e977",
   "metadata": {},
   "outputs": [
    {
     "data": {
      "text/plain": [
       "tensor(1.)"
      ]
     },
     "execution_count": 64,
     "metadata": {},
     "output_type": "execute_result"
    }
   ],
   "source": [
    "acc(coeffs)"
   ]
  }
 ],
 "metadata": {
  "kernelspec": {
   "display_name": "Python 3 (ipykernel)",
   "language": "python",
   "name": "python3"
  },
  "language_info": {
   "codemirror_mode": {
    "name": "ipython",
    "version": 3
   },
   "file_extension": ".py",
   "mimetype": "text/x-python",
   "name": "python",
   "nbconvert_exporter": "python",
   "pygments_lexer": "ipython3",
   "version": "3.9.16"
  }
 },
 "nbformat": 4,
 "nbformat_minor": 5
}

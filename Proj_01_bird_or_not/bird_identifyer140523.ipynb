{
 "cells": [
  {
   "cell_type": "code",
   "execution_count": null,
   "id": "7b2463f6",
   "metadata": {},
   "outputs": [],
   "source": [
    "# Import necessary libraries"
   ]
  },
  {
   "cell_type": "code",
   "execution_count": 1,
   "id": "e9a35307",
   "metadata": {},
   "outputs": [],
   "source": [
    "import os\n",
    "iskaggle = os.environ.get('KAGGLE_KERNEL_RUN_TYPE', '')\n",
    "\n",
    "if iskaggle:\n",
    "    !pip install -Uqq fastai duckduckgo_search"
   ]
  },
  {
   "cell_type": "code",
   "execution_count": 81,
   "id": "7c3186b1",
   "metadata": {},
   "outputs": [],
   "source": [
    "\n",
    "from duckduckgo_search import ddg_images\n",
    "from fastcore.all import *\n",
    "\n",
    "def search_images(term, max_images=5):\n",
    "    print(f\"Searching for '{term}'\")\n",
    "    return L(ddg_images(term, max_results=max_images)).itemgot('image')"
   ]
  },
  {
   "cell_type": "code",
   "execution_count": null,
   "id": "0338cd9a",
   "metadata": {},
   "outputs": [],
   "source": [
    "# download bird and forest pictures, duckduckgo api not working"
   ]
  },
  {
   "cell_type": "code",
   "execution_count": 82,
   "id": "47efc1ea",
   "metadata": {},
   "outputs": [],
   "source": [
    "UNSPLASH_ACCESS_KEY=\"_cCqPIjHpijlT288W1p94bk_oInij8VCArlZK2359PM\""
   ]
  },
  {
   "cell_type": "code",
   "execution_count": 91,
   "id": "c4f789d6",
   "metadata": {},
   "outputs": [],
   "source": [
    "import os\n",
    "from os.path import join, dirname, abspath\n",
    "from dotenv import load_dotenv\n",
    "\n",
    "dotenv_path = join(dirname(abspath(\"__file__\")), '../.env')\n",
    "load_dotenv(dotenv_path)\n",
    "\n",
    "UNSPLASH_ACCESS_KEY = os.environ.get(\"UNSPLASH_ACCESS_KEY\")"
   ]
  },
  {
   "cell_type": "code",
   "execution_count": null,
   "id": "2de8263a",
   "metadata": {},
   "outputs": [],
   "source": [
    "# use flickrapi scape and save photos to local folder"
   ]
  },
  {
   "cell_type": "code",
   "execution_count": 116,
   "id": "e90f88ff",
   "metadata": {},
   "outputs": [
    {
     "name": "stdout",
     "output_type": "stream",
     "text": [
      "Saved photo 1/20 to saved_photos/forest_photo/forest_photo_0.jpg\n",
      "Saved photo 2/20 to saved_photos/forest_photo/forest_photo_1.jpg\n",
      "Saved photo 3/20 to saved_photos/forest_photo/forest_photo_2.jpg\n",
      "Saved photo 4/20 to saved_photos/forest_photo/forest_photo_3.jpg\n",
      "Saved photo 5/20 to saved_photos/forest_photo/forest_photo_4.jpg\n",
      "Saved photo 6/20 to saved_photos/forest_photo/forest_photo_5.jpg\n",
      "Saved photo 7/20 to saved_photos/forest_photo/forest_photo_6.jpg\n",
      "Saved photo 8/20 to saved_photos/forest_photo/forest_photo_7.jpg\n",
      "Saved photo 9/20 to saved_photos/forest_photo/forest_photo_8.jpg\n",
      "Saved photo 10/20 to saved_photos/forest_photo/forest_photo_9.jpg\n",
      "Saved photo 11/20 to saved_photos/forest_photo/forest_photo_10.jpg\n",
      "Saved photo 12/20 to saved_photos/forest_photo/forest_photo_11.jpg\n",
      "Saved photo 13/20 to saved_photos/forest_photo/forest_photo_12.jpg\n",
      "Saved photo 14/20 to saved_photos/forest_photo/forest_photo_13.jpg\n",
      "Saved photo 15/20 to saved_photos/forest_photo/forest_photo_14.jpg\n",
      "Saved photo 16/20 to saved_photos/forest_photo/forest_photo_15.jpg\n",
      "Saved photo 17/20 to saved_photos/forest_photo/forest_photo_16.jpg\n",
      "Saved photo 18/20 to saved_photos/forest_photo/forest_photo_17.jpg\n",
      "Saved photo 19/20 to saved_photos/forest_photo/forest_photo_18.jpg\n",
      "Saved photo 20/20 to saved_photos/forest_photo/forest_photo_19.jpg\n",
      "Saved photo 1/20 to saved_photos/forest_sun_photo/forest_sun_photo_0.jpg\n",
      "Saved photo 2/20 to saved_photos/forest_sun_photo/forest_sun_photo_1.jpg\n",
      "Saved photo 3/20 to saved_photos/forest_sun_photo/forest_sun_photo_2.jpg\n",
      "Saved photo 4/20 to saved_photos/forest_sun_photo/forest_sun_photo_3.jpg\n",
      "Saved photo 5/20 to saved_photos/forest_sun_photo/forest_sun_photo_4.jpg\n",
      "Saved photo 6/20 to saved_photos/forest_sun_photo/forest_sun_photo_5.jpg\n",
      "Saved photo 7/20 to saved_photos/forest_sun_photo/forest_sun_photo_6.jpg\n",
      "Saved photo 8/20 to saved_photos/forest_sun_photo/forest_sun_photo_7.jpg\n",
      "Saved photo 9/20 to saved_photos/forest_sun_photo/forest_sun_photo_8.jpg\n",
      "Saved photo 10/20 to saved_photos/forest_sun_photo/forest_sun_photo_9.jpg\n",
      "Saved photo 11/20 to saved_photos/forest_sun_photo/forest_sun_photo_10.jpg\n",
      "Saved photo 12/20 to saved_photos/forest_sun_photo/forest_sun_photo_11.jpg\n",
      "Saved photo 13/20 to saved_photos/forest_sun_photo/forest_sun_photo_12.jpg\n",
      "Saved photo 14/20 to saved_photos/forest_sun_photo/forest_sun_photo_13.jpg\n",
      "Saved photo 15/20 to saved_photos/forest_sun_photo/forest_sun_photo_14.jpg\n",
      "Saved photo 16/20 to saved_photos/forest_sun_photo/forest_sun_photo_15.jpg\n",
      "Saved photo 17/20 to saved_photos/forest_sun_photo/forest_sun_photo_16.jpg\n",
      "Saved photo 18/20 to saved_photos/forest_sun_photo/forest_sun_photo_17.jpg\n",
      "Saved photo 19/20 to saved_photos/forest_sun_photo/forest_sun_photo_18.jpg\n",
      "Saved photo 20/20 to saved_photos/forest_sun_photo/forest_sun_photo_19.jpg\n",
      "Saved photo 1/20 to saved_photos/forest_shade_photo/forest_shade_photo_0.jpg\n",
      "Saved photo 2/20 to saved_photos/forest_shade_photo/forest_shade_photo_1.jpg\n",
      "Saved photo 3/20 to saved_photos/forest_shade_photo/forest_shade_photo_2.jpg\n",
      "Saved photo 4/20 to saved_photos/forest_shade_photo/forest_shade_photo_3.jpg\n",
      "Saved photo 5/20 to saved_photos/forest_shade_photo/forest_shade_photo_4.jpg\n",
      "Saved photo 6/20 to saved_photos/forest_shade_photo/forest_shade_photo_5.jpg\n",
      "Saved photo 7/20 to saved_photos/forest_shade_photo/forest_shade_photo_6.jpg\n",
      "Saved photo 8/20 to saved_photos/forest_shade_photo/forest_shade_photo_7.jpg\n",
      "Saved photo 9/20 to saved_photos/forest_shade_photo/forest_shade_photo_8.jpg\n",
      "Saved photo 10/20 to saved_photos/forest_shade_photo/forest_shade_photo_9.jpg\n",
      "Saved photo 11/20 to saved_photos/forest_shade_photo/forest_shade_photo_10.jpg\n",
      "Saved photo 12/20 to saved_photos/forest_shade_photo/forest_shade_photo_11.jpg\n",
      "Saved photo 13/20 to saved_photos/forest_shade_photo/forest_shade_photo_12.jpg\n",
      "Saved photo 14/20 to saved_photos/forest_shade_photo/forest_shade_photo_13.jpg\n",
      "Saved photo 15/20 to saved_photos/forest_shade_photo/forest_shade_photo_14.jpg\n",
      "Saved photo 16/20 to saved_photos/forest_shade_photo/forest_shade_photo_15.jpg\n",
      "Saved photo 17/20 to saved_photos/forest_shade_photo/forest_shade_photo_16.jpg\n",
      "Saved photo 18/20 to saved_photos/forest_shade_photo/forest_shade_photo_17.jpg\n",
      "Saved photo 19/20 to saved_photos/forest_shade_photo/forest_shade_photo_18.jpg\n",
      "Saved photo 20/20 to saved_photos/forest_shade_photo/forest_shade_photo_19.jpg\n",
      "Saved photo 1/20 to saved_photos/bird_sun_photo/bird_sun_photo_0.jpg\n",
      "Saved photo 2/20 to saved_photos/bird_sun_photo/bird_sun_photo_1.jpg\n",
      "Saved photo 3/20 to saved_photos/bird_sun_photo/bird_sun_photo_2.jpg\n",
      "Saved photo 4/20 to saved_photos/bird_sun_photo/bird_sun_photo_3.jpg\n",
      "Saved photo 5/20 to saved_photos/bird_sun_photo/bird_sun_photo_4.jpg\n"
     ]
    }
   ],
   "source": [
    "import flickrapi\n",
    "\n",
    "# Set your API key and secret\n",
    "api_key = \"b1b406f4edd7ae93e6ae77fd691baed8\"\n",
    "api_secret = \"a99a6dac4227bcab\"\n",
    "\n",
    "import os\n",
    "import urllib.request\n",
    "import flickrapi\n",
    "\n",
    "\n",
    "# Create the FlickrAPI object\n",
    "flickr = flickrapi.FlickrAPI(api_key, api_secret, format='parsed-json')\n",
    "\n",
    "# Set the search terms and categories\n",
    "search_terms = {\n",
    "    \"forest_photo\": \"forest\",\n",
    "    \"forest_sun_photo\": \"forest sun\",\n",
    "    \"forest_shade_photo\": \"forest shade\",\n",
    "    \"bird_sun_photo\": \"bird sun\",\n",
    "    \"bird_shade_photo\": \"bird shade\"\n",
    "}\n",
    "\n",
    "# Set the number of photos to download per category\n",
    "num_photos_per_category = 20\n",
    "\n",
    "# Download photos for each category and save them to separate folders\n",
    "for category, search_term in search_terms.items():\n",
    "    # Search for photos and get the download URLs\n",
    "    photos = flickr.photos.search(text=search_term, per_page=num_photos_per_category, media='photos', tag_mode='all', tags=search_term)\n",
    "    photo_urls = []\n",
    "    for photo in photos['photos']['photo']:\n",
    "        photo_id = photo['id']\n",
    "        photo_info = flickr.photos.getInfo(photo_id=photo_id, format='parsed-json')\n",
    "        photo_url = f\"https://live.staticflickr.com/{photo_info['photo']['server']}/{photo_id}_{photo_info['photo']['secret']}_b.jpg\"\n",
    "        photo_urls.append(photo_url)\n",
    "\n",
    "    # Create the local folder for the photos\n",
    "    folder_name = f\"saved_photos/{category}\"\n",
    "    if not os.path.exists(folder_name):\n",
    "        os.makedirs(folder_name)\n",
    "\n",
    "    # Download the photos and save them to the local folder\n",
    "    for i, url in enumerate(photo_urls):\n",
    "        local_filename = f\"{folder_name}/{category}_{i}.jpg\"\n",
    "        urllib.request.urlretrieve(url, local_filename)\n",
    "        print(f\"Saved photo {i+1}/{num_photos_per_category} to {local_filename}\")"
   ]
  },
  {
   "cell_type": "code",
   "execution_count": null,
   "id": "6219ba1e",
   "metadata": {},
   "outputs": [],
   "source": [
    "# install and import fastai"
   ]
  },
  {
   "cell_type": "code",
   "execution_count": 45,
   "id": "09aeabd6",
   "metadata": {
    "scrolled": true
   },
   "outputs": [
    {
     "data": {
      "text/plain": [
       "0"
      ]
     },
     "execution_count": 45,
     "metadata": {},
     "output_type": "execute_result"
    }
   ],
   "source": [
    "import fastai\n",
    "from fastai.learner import Learner\n",
    "from fastai.vision.core import *\n",
    "from fastai.vision.utils import verify_images\n",
    "from pathlib import Path\n",
    "from fastai.vision.all import *\n",
    "\n",
    "\n",
    "# Set the path to your image directory\n",
    "path = Path(\"/Users/wukaiti/deeplearning/saved_photos\")\n",
    "\n",
    "# Get a list of all image files in the directory\n",
    "image_files = get_image_files(path)\n",
    "\n",
    "# Verify the integrity of each image file\n",
    "verify_images(image_files)\n",
    "failed = verify_images(get_image_files(\"/Users/wukaiti/deeplearning/saved_photos\"))\n",
    "failed.map(Path.unlink)\n",
    "len(failed)"
   ]
  },
  {
   "cell_type": "code",
   "execution_count": null,
   "id": "6b593407",
   "metadata": {},
   "outputs": [],
   "source": [
    "# train images"
   ]
  },
  {
   "cell_type": "code",
   "execution_count": 46,
   "id": "34e4ace8",
   "metadata": {},
   "outputs": [],
   "source": [
    "dls = DataBlock(\n",
    "    blocks=(ImageBlock, CategoryBlock), \n",
    "    get_items=get_image_files, \n",
    "    splitter=RandomSplitter(valid_pct=0.2, seed=42),\n",
    "    get_y=parent_label,\n",
    "    item_tfms=[Resize(192, method='squish')]\n",
    ").dataloaders(path, bs=32)\n",
    "\n",
    "dls.show_batch(max_n=6)"
   ]
  },
  {
   "cell_type": "code",
   "execution_count": null,
   "id": "4477f021",
   "metadata": {},
   "outputs": [],
   "source": [
    "# show results"
   ]
  },
  {
   "cell_type": "code",
   "execution_count": 47,
   "id": "f41a82e3",
   "metadata": {},
   "outputs": [
    {
     "data": {
      "text/html": [
       "\n",
       "<style>\n",
       "    /* Turns off some styling */\n",
       "    progress {\n",
       "        /* gets rid of default border in Firefox and Opera. */\n",
       "        border: none;\n",
       "        /* Needs to be in here for Safari polyfill so background images work as expected. */\n",
       "        background-size: auto;\n",
       "    }\n",
       "    progress:not([value]), progress:not([value])::-webkit-progress-bar {\n",
       "        background: repeating-linear-gradient(45deg, #7e7e7e, #7e7e7e 10px, #5c5c5c 10px, #5c5c5c 20px);\n",
       "    }\n",
       "    .progress-bar-interrupted, .progress-bar-interrupted::-webkit-progress-bar {\n",
       "        background: #F44336;\n",
       "    }\n",
       "</style>\n"
      ],
      "text/plain": [
       "<IPython.core.display.HTML object>"
      ]
     },
     "metadata": {},
     "output_type": "display_data"
    },
    {
     "data": {
      "text/html": [
       "<table border=\"1\" class=\"dataframe\">\n",
       "  <thead>\n",
       "    <tr style=\"text-align: left;\">\n",
       "      <th>epoch</th>\n",
       "      <th>train_loss</th>\n",
       "      <th>valid_loss</th>\n",
       "      <th>error_rate</th>\n",
       "      <th>time</th>\n",
       "    </tr>\n",
       "  </thead>\n",
       "  <tbody>\n",
       "    <tr>\n",
       "      <td>0</td>\n",
       "      <td>2.606458</td>\n",
       "      <td>3.972692</td>\n",
       "      <td>0.933333</td>\n",
       "      <td>00:01</td>\n",
       "    </tr>\n",
       "  </tbody>\n",
       "</table>"
      ],
      "text/plain": [
       "<IPython.core.display.HTML object>"
      ]
     },
     "metadata": {},
     "output_type": "display_data"
    },
    {
     "data": {
      "text/html": [
       "\n",
       "<style>\n",
       "    /* Turns off some styling */\n",
       "    progress {\n",
       "        /* gets rid of default border in Firefox and Opera. */\n",
       "        border: none;\n",
       "        /* Needs to be in here for Safari polyfill so background images work as expected. */\n",
       "        background-size: auto;\n",
       "    }\n",
       "    progress:not([value]), progress:not([value])::-webkit-progress-bar {\n",
       "        background: repeating-linear-gradient(45deg, #7e7e7e, #7e7e7e 10px, #5c5c5c 10px, #5c5c5c 20px);\n",
       "    }\n",
       "    .progress-bar-interrupted, .progress-bar-interrupted::-webkit-progress-bar {\n",
       "        background: #F44336;\n",
       "    }\n",
       "</style>\n"
      ],
      "text/plain": [
       "<IPython.core.display.HTML object>"
      ]
     },
     "metadata": {},
     "output_type": "display_data"
    },
    {
     "data": {
      "text/html": [
       "<table border=\"1\" class=\"dataframe\">\n",
       "  <thead>\n",
       "    <tr style=\"text-align: left;\">\n",
       "      <th>epoch</th>\n",
       "      <th>train_loss</th>\n",
       "      <th>valid_loss</th>\n",
       "      <th>error_rate</th>\n",
       "      <th>time</th>\n",
       "    </tr>\n",
       "  </thead>\n",
       "  <tbody>\n",
       "    <tr>\n",
       "      <td>0</td>\n",
       "      <td>2.579088</td>\n",
       "      <td>3.196482</td>\n",
       "      <td>0.933333</td>\n",
       "      <td>00:01</td>\n",
       "    </tr>\n",
       "    <tr>\n",
       "      <td>1</td>\n",
       "      <td>2.574564</td>\n",
       "      <td>2.651485</td>\n",
       "      <td>0.933333</td>\n",
       "      <td>00:01</td>\n",
       "    </tr>\n",
       "    <tr>\n",
       "      <td>2</td>\n",
       "      <td>2.300069</td>\n",
       "      <td>2.102962</td>\n",
       "      <td>0.933333</td>\n",
       "      <td>00:01</td>\n",
       "    </tr>\n",
       "  </tbody>\n",
       "</table>"
      ],
      "text/plain": [
       "<IPython.core.display.HTML object>"
      ]
     },
     "metadata": {},
     "output_type": "display_data"
    }
   ],
   "source": [
    "blocks=(ImageBlock, CategoryBlock),\n",
    "get_items=get_image_files, \n",
    "splitter=RandomSplitter(valid_pct=0.2, seed=42),\n",
    "get_y=parent_label,\n",
    "item_tfms=[Resize(192, method='squish')]\n",
    "learn = vision_learner(dls, resnet18, metrics=error_rate)\n",
    "learn.fine_tune(3)"
   ]
  },
  {
   "cell_type": "code",
   "execution_count": null,
   "id": "15190b5d",
   "metadata": {},
   "outputs": [],
   "source": [
    "# try model on one photo"
   ]
  },
  {
   "cell_type": "code",
   "execution_count": 48,
   "id": "03415735",
   "metadata": {},
   "outputs": [
    {
     "data": {
      "text/html": [
       "\n",
       "<style>\n",
       "    /* Turns off some styling */\n",
       "    progress {\n",
       "        /* gets rid of default border in Firefox and Opera. */\n",
       "        border: none;\n",
       "        /* Needs to be in here for Safari polyfill so background images work as expected. */\n",
       "        background-size: auto;\n",
       "    }\n",
       "    progress:not([value]), progress:not([value])::-webkit-progress-bar {\n",
       "        background: repeating-linear-gradient(45deg, #7e7e7e, #7e7e7e 10px, #5c5c5c 10px, #5c5c5c 20px);\n",
       "    }\n",
       "    .progress-bar-interrupted, .progress-bar-interrupted::-webkit-progress-bar {\n",
       "        background: #F44336;\n",
       "    }\n",
       "</style>\n"
      ],
      "text/plain": [
       "<IPython.core.display.HTML object>"
      ]
     },
     "metadata": {},
     "output_type": "display_data"
    },
    {
     "data": {
      "text/html": [],
      "text/plain": [
       "<IPython.core.display.HTML object>"
      ]
     },
     "metadata": {},
     "output_type": "display_data"
    },
    {
     "name": "stdout",
     "output_type": "stream",
     "text": [
      "This is a: saved_photos.\n",
      "Probability it's a bird: 0.0251\n"
     ]
    }
   ],
   "source": [
    "is_bird,_,probs = learn.predict(PILImage.create('/Users/wukaiti/deeplearning/saved_photos/bird_29.jpg'))\n",
    "print(f\"This is a: {is_bird}.\")\n",
    "print(f\"Probability it's a bird: {probs[0]:.4f}\")"
   ]
  }
 ],
 "metadata": {
  "kernelspec": {
   "display_name": "Python 3.10.5 64-bit ('geo_env': conda)",
   "language": "python",
   "name": "python3105jvsc74a57bd00ee5285072c2acecbd81e7f06cc1a88902e9015653e749037ca4eb160abba62b"
  },
  "language_info": {
   "codemirror_mode": {
    "name": "ipython",
    "version": 3
   },
   "file_extension": ".py",
   "mimetype": "text/x-python",
   "name": "python",
   "nbconvert_exporter": "python",
   "pygments_lexer": "ipython3",
   "version": "3.10.5"
  }
 },
 "nbformat": 4,
 "nbformat_minor": 5
}
